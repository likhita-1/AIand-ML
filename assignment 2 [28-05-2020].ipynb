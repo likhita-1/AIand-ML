{
 "cells": [
  {
   "cell_type": "markdown",
   "metadata": {},
   "source": [
    "CSE- 221710315024 -LIKHITA YANAMADDI"
   ]
  },
  {
   "cell_type": "markdown",
   "metadata": {},
   "source": [
    "**Question 1:**\n",
    "\n",
    "Accept a string from the user and count no.of vowels,consonants and special characters"
   ]
  },
  {
   "cell_type": "code",
   "execution_count": 17,
   "metadata": {},
   "outputs": [
    {
     "name": "stdout",
     "output_type": "stream",
     "text": [
      "Please Enter Your Own String : FDXWSZAQWASERDTFGYHUJKLCVBN\n",
      "Total Number of Vowels in this String =  4\n",
      "Total Number of Consonants in this String =  23\n",
      "Total Number of special in this String =  0\n"
     ]
    }
   ],
   "source": [
    "str1 = input(\"Please Enter Your Own String : \")\n",
    "vowels = 0\n",
    "consonants = 0\n",
    "special = 0\n",
    "\n",
    "for i in str1:\n",
    "    if ( (i >= 'a' and i <= 'z') or (i >= 'A' and i <= 'Z') ):\n",
    "        if(i == 'a' or i == 'e' or i == 'i' or i == 'o' or i == 'u'or i == 'A' or i == 'E' or i == 'I' or i == 'O' or i == 'U'):\n",
    "            vowels = vowels + 1\n",
    "        else:\n",
    "            consonants = consonants + 1\n",
    "    else:\n",
    "        special = special + 1\n",
    " \n",
    "print(\"Total Number of Vowels in this String = \", vowels)\n",
    "print(\"Total Number of Consonants in this String = \", consonants)\n",
    "print(\"Total Number of special in this String = \", special)\n"
   ]
  },
  {
   "cell_type": "markdown",
   "metadata": {},
   "source": [
    "**Question 2:**\n",
    "\n",
    "count the no.of pairs of a in the given string(Infosys InfyTQ)\n",
    "    string →  \"abbaaccbbaaa\"\n",
    "    output →  2"
   ]
  },
  {
   "cell_type": "code",
   "execution_count": 16,
   "metadata": {},
   "outputs": [
    {
     "name": "stdout",
     "output_type": "stream",
     "text": [
      "enter the stringabbaaccbbaaa\n",
      "2\n"
     ]
    }
   ],
   "source": [
    "s = input(\"enter the string\")\n",
    "print(s.count(\"aa\"))"
   ]
  },
  {
   "cell_type": "markdown",
   "metadata": {},
   "source": [
    "**Question 3:**\n",
    "\n",
    "    Test case1:\n",
    "        string →  \"((((()()()))))()\"\n",
    "        output →  8\n",
    "    Test case2:\n",
    "        string →  \"((()))()\"\n",
    "        Output →  4\n"
   ]
  },
  {
   "cell_type": "code",
   "execution_count": 13,
   "metadata": {},
   "outputs": [
    {
     "name": "stdout",
     "output_type": "stream",
     "text": [
      "Enter a string: ((((()()()))))()\n",
      "8\n"
     ]
    }
   ],
   "source": [
    "str = input(\"Enter a string: \")\n",
    "a=\"(\"\n",
    "b=\")\"\n",
    "open,close=0,0\n",
    "for i in range(0, len(str)):\n",
    "    ch = str[i]\n",
    "    if(ch==a):\n",
    "        open+=1\n",
    "    elif(ch==b):\n",
    "        close+=1\n",
    "if(open==close):\n",
    "    print(close)\n",
    "else:\n",
    "    print(close)"
   ]
  },
  {
   "cell_type": "markdown",
   "metadata": {},
   "source": [
    "**Question 4:**\n",
    "\n",
    "Read the input as two limits and Print the output as Palindrome count between the two limits\n",
    "Example #1; Input : 1 10 Output : 9\n",
    " Example #2: Input : 1 100 Output : 18"
   ]
  },
  {
   "cell_type": "code",
   "execution_count": 9,
   "metadata": {},
   "outputs": [
    {
     "name": "stdout",
     "output_type": "stream",
     "text": [
      "enter a value n:1\n",
      "enter a value m:100\n",
      "18\n"
     ]
    }
   ],
   "source": [
    "count = 0\n",
    "n = int(input(\"enter a value n:\"))\n",
    "m = int(input(\"enter a value m:\"))\n",
    "for i in range(n,m):\n",
    "    if str(i) == str(i)[::-1]:\n",
    "        count += 1\n",
    "print(count)\n"
   ]
  },
  {
   "cell_type": "markdown",
   "metadata": {},
   "source": [
    "**Question 5:**\n",
    "\n",
    " Accept a number as an input and check whether the given number is palindrome or not\n",
    "if it is a palindrome number print the number on the screen\n",
    "if it is not a palindrome number reverse that number and add it to previous number repeat this until will get a palindrome number and print that palindrome number on the screen\n",
    "input: 127\n",
    "output: 848\n"
   ]
  },
  {
   "cell_type": "code",
   "execution_count": 10,
   "metadata": {},
   "outputs": [
    {
     "name": "stdout",
     "output_type": "stream",
     "text": [
      "848\n"
     ]
    }
   ],
   "source": [
    "def rev_number(n):\n",
    "  s = 0\n",
    "  while True:\n",
    "    k = str(n)\n",
    "    if k == k[::-1]:\n",
    "      break\n",
    "    else:\n",
    "      m = int(k[::-1])\n",
    "      n += m\n",
    "      s += 1\n",
    "  return n \n",
    "\n",
    "print(rev_number(127))\n"
   ]
  },
  {
   "cell_type": "markdown",
   "metadata": {},
   "source": [
    "**Question 6:**\n",
    "\n",
    "input:orange  →   output : puboif"
   ]
  },
  {
   "cell_type": "code",
   "execution_count": 2,
   "metadata": {},
   "outputs": [
    {
     "name": "stdout",
     "output_type": "stream",
     "text": [
      "enter stringorange\n",
      "puboif"
     ]
    }
   ],
   "source": [
    "s=str(input('enter string'))\n",
    "vowel=['a','e','i','o','u']\n",
    "for i in s:\n",
    "    if i in vowel:\n",
    "        print(chr(ord(i)+1),end='')\n",
    "    elif (ord(i)>65 and ord(i)<69) or(ord(i)>97 and ord(i)<101):\n",
    "        print('e',end='')\n",
    "    elif (ord(i)>69 and ord(i)<73) or(ord(i)>101 and ord(i)<105):\n",
    "        print('i',end='')\n",
    "    elif (ord(i)>73 and ord(i)<79) or(ord(i)>105 and ord(i)<111):\n",
    "        print('o',end='')    \n",
    "    elif (ord(i)>79 and ord(i)<85) or(ord(i)>111 and ord(i)<117):\n",
    "        print('u',end='')\n",
    "    elif (ord(i)>85 and ord(i)<90) or(odr(i)>117 and ord(i)<122):\n",
    "        print('a',end='')\n",
    "    "
   ]
  },
  {
   "cell_type": "markdown",
   "metadata": {},
   "source": [
    "**Question 7:**\n",
    "\n",
    "Accept input as a string and display sum of digits as the output \n",
    "input:Appli123cation456 \n",
    "Output: 21"
   ]
  },
  {
   "cell_type": "code",
   "execution_count": 4,
   "metadata": {},
   "outputs": [
    {
     "name": "stdout",
     "output_type": "stream",
     "text": [
      "21\n"
     ]
    }
   ],
   "source": [
    "def sum_digits_string(str1):\n",
    "    sum_digit = 0\n",
    "    for x in str1:\n",
    "        if x.isdigit() == True:\n",
    "            z = int(x)\n",
    "            sum_digit = sum_digit + z\n",
    "\n",
    "    return sum_digit\n",
    "     \n",
    "print(sum_digits_string(\"Appli123cation456 \"))\n",
    "\n"
   ]
  },
  {
   "cell_type": "markdown",
   "metadata": {},
   "source": [
    "**Question 8:**\n",
    "\n",
    "Write a program to prompt for a score between 0.0 and 1.0. If the score is out of range, print an error. If the score is between 0.0 and 1.0, print a grade using the following table:\n",
    "Score Grade\n",
    ">= 0.9 A\n",
    ">= 0.8 B\n",
    ">= 0.7 C\n",
    ">= 0.6 D\n",
    "< 0.6 F\n",
    "If the user enters a value out of range, print a suitable error message and exit. For the test, enter a score of 0.85\n"
   ]
  },
  {
   "cell_type": "code",
   "execution_count": 5,
   "metadata": {},
   "outputs": [
    {
     "name": "stdout",
     "output_type": "stream",
     "text": [
      "Enter score between 0.0 and 1.0: 0.5\n",
      "F\n"
     ]
    }
   ],
   "source": [
    "score = float(input(\"Enter score between 0.0 and 1.0: \"))\n",
    "if score>1.0 or score<0.0 :\n",
    "\tprint(error)\n",
    "elif score>=0.9 :\n",
    "  \tprint('A')\n",
    "elif score>=0.8 :\n",
    "    print('B')\n",
    "elif score>=0.7 :\n",
    "    print('C')\n",
    "elif score>=0.6 :\n",
    "    print('D')\n",
    "else :\n",
    "    print('F')\n"
   ]
  },
  {
   "cell_type": "markdown",
   "metadata": {},
   "source": [
    "**Question 9:**\n",
    "\n",
    "Write a Python program which iterates the integers from 1 to 50. For multiples of three print \"Fizz\" instead of the number and for the multiples of five print \"Buzz\". For numbers which are multiples of both three and five print \"FizzBuzz\".\n",
    "Sample Output :\n",
    "fizzbuzz\n",
    "1\n",
    "2\n",
    "fizz\n",
    "4\n",
    "buzz"
   ]
  },
  {
   "cell_type": "code",
   "execution_count": 3,
   "metadata": {},
   "outputs": [
    {
     "name": "stdout",
     "output_type": "stream",
     "text": [
      "fizzbuzz\n",
      "1\n",
      "2\n",
      "fizz\n",
      "4\n",
      "buzz\n",
      "fizz\n",
      "7\n",
      "8\n",
      "fizz\n",
      "buzz\n",
      "11\n",
      "fizz\n",
      "13\n",
      "14\n",
      "fizzbuzz\n",
      "16\n",
      "17\n",
      "fizz\n",
      "19\n",
      "buzz\n",
      "fizz\n",
      "22\n",
      "23\n",
      "fizz\n",
      "buzz\n",
      "26\n",
      "fizz\n",
      "28\n",
      "29\n",
      "fizzbuzz\n",
      "31\n",
      "32\n",
      "fizz\n",
      "34\n",
      "buzz\n",
      "fizz\n",
      "37\n",
      "38\n",
      "fizz\n",
      "buzz\n",
      "41\n",
      "fizz\n",
      "43\n",
      "44\n",
      "fizzbuzz\n",
      "46\n",
      "47\n",
      "fizz\n",
      "49\n",
      "buzz\n"
     ]
    }
   ],
   "source": [
    "for fizzbuzz in range(51):\n",
    "    if fizzbuzz % 3 == 0 and fizzbuzz % 5 == 0:\n",
    "        print(\"fizzbuzz\")\n",
    "        continue\n",
    "    elif fizzbuzz % 3 == 0:\n",
    "        print(\"fizz\")\n",
    "        continue\n",
    "    elif fizzbuzz % 5 == 0:\n",
    "        print(\"buzz\")\n",
    "        continue\n",
    "    print(fizzbuzz)\n"
   ]
  },
  {
   "cell_type": "markdown",
   "metadata": {},
   "source": [
    "**Question 10:**\n",
    "\n",
    "Write a Python program to find the median of three values.\n",
    "Expected Output:\n",
    "Input first number: 26                                            \n",
    "Input second number: 15                                                \n",
    "Input third number: 29                                                  \n",
    "The median is 26"
   ]
  },
  {
   "cell_type": "code",
   "execution_count": 2,
   "metadata": {},
   "outputs": [
    {
     "name": "stdout",
     "output_type": "stream",
     "text": [
      "Input first number: 2\n",
      "Input second number: 3\n",
      "Input third number: 4\n",
      "The median is 3.0\n"
     ]
    }
   ],
   "source": [
    "a = float(input(\"Input first number: \"))\n",
    "b = float(input(\"Input second number: \"))\n",
    "c = float(input(\"Input third number: \"))\n",
    "if a > b:\n",
    "    if a < c:\n",
    "        median = a\n",
    "    elif b > c:\n",
    "        median = b\n",
    "    else:\n",
    "        median = c\n",
    "else:\n",
    "    if a > c:\n",
    "        median = a\n",
    "    elif b < c:\n",
    "        median = b\n",
    "    else:\n",
    "        median = c\n",
    "\n",
    "print(\"The median is\", median)\n"
   ]
  },
  {
   "cell_type": "code",
   "execution_count": null,
   "metadata": {},
   "outputs": [],
   "source": []
  }
 ],
 "metadata": {
  "kernelspec": {
   "display_name": "Python 3",
   "language": "python",
   "name": "python3"
  },
  "language_info": {
   "codemirror_mode": {
    "name": "ipython",
    "version": 3
   },
   "file_extension": ".py",
   "mimetype": "text/x-python",
   "name": "python",
   "nbconvert_exporter": "python",
   "pygments_lexer": "ipython3",
   "version": "3.7.6"
  }
 },
 "nbformat": 4,
 "nbformat_minor": 4
}
