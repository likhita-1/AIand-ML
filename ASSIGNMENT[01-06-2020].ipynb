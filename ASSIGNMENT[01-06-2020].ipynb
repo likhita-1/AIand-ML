{
 "cells": [
  {
   "cell_type": "markdown",
   "metadata": {},
   "source": [
    "ASSIGNMENT [01-06-2020]\n",
    "**CSE-221710315024-LIKHITA YANAMADDI**"
   ]
  },
  {
   "cell_type": "code",
   "execution_count": 6,
   "metadata": {},
   "outputs": [
    {
     "name": "stdout",
     "output_type": "stream",
     "text": [
      "Eatdoctor42%\n",
      "do you want another password yes\n",
      "Leadbird3%\n",
      "do you want another password no\n"
     ]
    }
   ],
   "source": [
    "l1=[\"Eat\",\"Sleep\",\"Play\",\"Drive\",\"Act\",\"Save\",\"Lead\",\"Rise\",\"Own\",\"Wish\",\"Smell\",\"Need\"]\n",
    "l2=[\"actor\",\"dog\",\"dream\",\"doctor\",\"army\",\"coffee\",\"cat\",\"book\",\"chair\",\"bridge\",\"bird\",\"cave\"]\n",
    "l3=[\"!\",\"@\",\"#\",\"$\",\"%\",\"*\"]\n",
    "import random\n",
    "while True:\n",
    "    x=str(random.choice(l1))\n",
    "    y=str(random.choice(l2))\n",
    "    z=str(random.randint(0,100))\n",
    "    r=str(random.choice(l3))\n",
    "    print(str(x+y+z+r))\n",
    "    pwd=input(\"do you want another password \")\n",
    "    if pwd==\"no\":\n",
    "        break\n",
    "    else:\n",
    "        continue"
   ]
  },
  {
   "cell_type": "markdown",
   "metadata": {},
   "source": [
    "ASSIGNMENT[30-05-2020]\n",
    "QUESTION 5:\n"
   ]
  },
  {
   "cell_type": "code",
   "execution_count": 7,
   "metadata": {},
   "outputs": [
    {
     "name": "stdout",
     "output_type": "stream",
     "text": [
      "number of files: 5\n"
     ]
    }
   ],
   "source": [
    "n = input(\"number of files: \")\n",
    "n = int(n)\n",
    "for i in range(n):\n",
    "    f = open(\"test\" +str(i)+\".txt\", \"w\")\n",
    "    for i in range(512):\n",
    "        f.write(\"character\")"
   ]
  },
  {
   "cell_type": "code",
   "execution_count": null,
   "metadata": {},
   "outputs": [],
   "source": []
  }
 ],
 "metadata": {
  "kernelspec": {
   "display_name": "Python 3",
   "language": "python",
   "name": "python3"
  },
  "language_info": {
   "codemirror_mode": {
    "name": "ipython",
    "version": 3
   },
   "file_extension": ".py",
   "mimetype": "text/x-python",
   "name": "python",
   "nbconvert_exporter": "python",
   "pygments_lexer": "ipython3",
   "version": "3.7.6"
  }
 },
 "nbformat": 4,
 "nbformat_minor": 4
}
